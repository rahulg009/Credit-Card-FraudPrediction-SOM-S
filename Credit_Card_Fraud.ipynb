{
  "nbformat": 4,
  "nbformat_minor": 0,
  "metadata": {
    "colab": {
      "name": "Credit-Card-Fraud.ipynb",
      "provenance": [],
      "collapsed_sections": []
    },
    "kernelspec": {
      "name": "python3",
      "display_name": "Python 3"
    },
    "accelerator": "GPU"
  },
  "cells": [
    {
      "cell_type": "code",
      "metadata": {
        "id": "z0qJJv6HUyu3"
      },
      "source": [
        "import numpy as np\n",
        "import matplotlib.pyplot as plt\n",
        "import pandas as pd\n",
        "import seaborn as sns"
      ],
      "execution_count": 7,
      "outputs": []
    },
    {
      "cell_type": "code",
      "metadata": {
        "id": "vTmgEiGtW2ps",
        "colab": {
          "base_uri": "https://localhost:8080/",
          "height": 202
        },
        "outputId": "89c76565-094c-437d-f73e-3b18ce79417e"
      },
      "source": [
        "dataset=pd.read_csv('Credit_Card_Applications.csv')\r\n",
        "dataset.head()"
      ],
      "execution_count": 10,
      "outputs": [
        {
          "output_type": "execute_result",
          "data": {
            "text/html": [
              "<div>\n",
              "<style scoped>\n",
              "    .dataframe tbody tr th:only-of-type {\n",
              "        vertical-align: middle;\n",
              "    }\n",
              "\n",
              "    .dataframe tbody tr th {\n",
              "        vertical-align: top;\n",
              "    }\n",
              "\n",
              "    .dataframe thead th {\n",
              "        text-align: right;\n",
              "    }\n",
              "</style>\n",
              "<table border=\"1\" class=\"dataframe\">\n",
              "  <thead>\n",
              "    <tr style=\"text-align: right;\">\n",
              "      <th></th>\n",
              "      <th>CustomerID</th>\n",
              "      <th>A1</th>\n",
              "      <th>A2</th>\n",
              "      <th>A3</th>\n",
              "      <th>A4</th>\n",
              "      <th>A5</th>\n",
              "      <th>A6</th>\n",
              "      <th>A7</th>\n",
              "      <th>A8</th>\n",
              "      <th>A9</th>\n",
              "      <th>A10</th>\n",
              "      <th>A11</th>\n",
              "      <th>A12</th>\n",
              "      <th>A13</th>\n",
              "      <th>A14</th>\n",
              "      <th>Class</th>\n",
              "    </tr>\n",
              "  </thead>\n",
              "  <tbody>\n",
              "    <tr>\n",
              "      <th>0</th>\n",
              "      <td>15776156</td>\n",
              "      <td>1</td>\n",
              "      <td>22.08</td>\n",
              "      <td>11.46</td>\n",
              "      <td>2</td>\n",
              "      <td>4</td>\n",
              "      <td>4</td>\n",
              "      <td>1.585</td>\n",
              "      <td>0</td>\n",
              "      <td>0</td>\n",
              "      <td>0</td>\n",
              "      <td>1</td>\n",
              "      <td>2</td>\n",
              "      <td>100</td>\n",
              "      <td>1213</td>\n",
              "      <td>0</td>\n",
              "    </tr>\n",
              "    <tr>\n",
              "      <th>1</th>\n",
              "      <td>15739548</td>\n",
              "      <td>0</td>\n",
              "      <td>22.67</td>\n",
              "      <td>7.00</td>\n",
              "      <td>2</td>\n",
              "      <td>8</td>\n",
              "      <td>4</td>\n",
              "      <td>0.165</td>\n",
              "      <td>0</td>\n",
              "      <td>0</td>\n",
              "      <td>0</td>\n",
              "      <td>0</td>\n",
              "      <td>2</td>\n",
              "      <td>160</td>\n",
              "      <td>1</td>\n",
              "      <td>0</td>\n",
              "    </tr>\n",
              "    <tr>\n",
              "      <th>2</th>\n",
              "      <td>15662854</td>\n",
              "      <td>0</td>\n",
              "      <td>29.58</td>\n",
              "      <td>1.75</td>\n",
              "      <td>1</td>\n",
              "      <td>4</td>\n",
              "      <td>4</td>\n",
              "      <td>1.250</td>\n",
              "      <td>0</td>\n",
              "      <td>0</td>\n",
              "      <td>0</td>\n",
              "      <td>1</td>\n",
              "      <td>2</td>\n",
              "      <td>280</td>\n",
              "      <td>1</td>\n",
              "      <td>0</td>\n",
              "    </tr>\n",
              "    <tr>\n",
              "      <th>3</th>\n",
              "      <td>15687688</td>\n",
              "      <td>0</td>\n",
              "      <td>21.67</td>\n",
              "      <td>11.50</td>\n",
              "      <td>1</td>\n",
              "      <td>5</td>\n",
              "      <td>3</td>\n",
              "      <td>0.000</td>\n",
              "      <td>1</td>\n",
              "      <td>1</td>\n",
              "      <td>11</td>\n",
              "      <td>1</td>\n",
              "      <td>2</td>\n",
              "      <td>0</td>\n",
              "      <td>1</td>\n",
              "      <td>1</td>\n",
              "    </tr>\n",
              "    <tr>\n",
              "      <th>4</th>\n",
              "      <td>15715750</td>\n",
              "      <td>1</td>\n",
              "      <td>20.17</td>\n",
              "      <td>8.17</td>\n",
              "      <td>2</td>\n",
              "      <td>6</td>\n",
              "      <td>4</td>\n",
              "      <td>1.960</td>\n",
              "      <td>1</td>\n",
              "      <td>1</td>\n",
              "      <td>14</td>\n",
              "      <td>0</td>\n",
              "      <td>2</td>\n",
              "      <td>60</td>\n",
              "      <td>159</td>\n",
              "      <td>1</td>\n",
              "    </tr>\n",
              "  </tbody>\n",
              "</table>\n",
              "</div>"
            ],
            "text/plain": [
              "   CustomerID  A1     A2     A3  A4  A5  ...  A10  A11  A12  A13   A14  Class\n",
              "0    15776156   1  22.08  11.46   2   4  ...    0    1    2  100  1213      0\n",
              "1    15739548   0  22.67   7.00   2   8  ...    0    0    2  160     1      0\n",
              "2    15662854   0  29.58   1.75   1   4  ...    0    1    2  280     1      0\n",
              "3    15687688   0  21.67  11.50   1   5  ...   11    1    2    0     1      1\n",
              "4    15715750   1  20.17   8.17   2   6  ...   14    0    2   60   159      1\n",
              "\n",
              "[5 rows x 16 columns]"
            ]
          },
          "metadata": {
            "tags": []
          },
          "execution_count": 10
        }
      ]
    },
    {
      "cell_type": "code",
      "metadata": {
        "colab": {
          "base_uri": "https://localhost:8080/",
          "height": 335
        },
        "id": "_hogm3aHtV5m",
        "outputId": "b34521ce-bfdf-4f4a-df5c-ebfdf9f6c8c3"
      },
      "source": [
        "df=dataset.corr()\r\n",
        "sns.heatmap(df)"
      ],
      "execution_count": 11,
      "outputs": [
        {
          "output_type": "execute_result",
          "data": {
            "text/plain": [
              "<matplotlib.axes._subplots.AxesSubplot at 0x7fcf726a6b38>"
            ]
          },
          "metadata": {
            "tags": []
          },
          "execution_count": 11
        },
        {
          "output_type": "display_data",
          "data": {
            "image/png": "[encoded data removed]",
            "text/plain": [
              "<Figure size 432x288 with 2 Axes>"
            ]
          },
          "metadata": {
            "tags": [],
            "needs_background": "light"
          }
        }
      ]
    },
    {
      "cell_type": "code",
      "metadata": {
        "id": "IT_ooVkpXKUs"
      },
      "source": [
        "X=dataset.iloc[:,:-1].values\n",
        "y=dataset.iloc[:,-1].values"
      ],
      "execution_count": 12,
      "outputs": []
    },
    {
      "cell_type": "code",
      "metadata": {
        "id": "O0RXknnJZ8Ps",
        "colab": {
          "base_uri": "https://localhost:8080/"
        },
        "outputId": "6344ad7d-84ea-4777-d819-d3a7b0b80d60"
      },
      "source": [
        "from sklearn.preprocessing import MinMaxScaler\n",
        "sc = MinMaxScaler(feature_range=(0,1))\n",
        "X=sc.fit_transform(X)\n",
        "print(X)"
      ],
      "execution_count": 13,
      "outputs": [
        {
          "output_type": "stream",
          "text": [
            "[[8.42681467e-01 1.00000000e+00 1.25263158e-01 ... 5.00000000e-01\n",
            "  5.00000000e-02 1.21200000e-02]\n",
            " [6.96090562e-01 0.00000000e+00 1.34135338e-01 ... 5.00000000e-01\n",
            "  8.00000000e-02 0.00000000e+00]\n",
            " [3.88981656e-01 0.00000000e+00 2.38045113e-01 ... 5.00000000e-01\n",
            "  1.40000000e-01 0.00000000e+00]\n",
            " ...\n",
            " [4.39420332e-01 0.00000000e+00 7.63909774e-02 ... 5.00000000e-01\n",
            "  5.00000000e-02 0.00000000e+00]\n",
            " [8.44034934e-01 0.00000000e+00 2.05563910e-01 ... 5.00000000e-01\n",
            "  6.00000000e-02 1.10000000e-04]\n",
            " [1.06907888e-01 1.00000000e+00 4.09774436e-01 ... 0.00000000e+00\n",
            "  2.80000000e-01 0.00000000e+00]]\n"
          ],
          "name": "stdout"
        }
      ]
    },
    {
      "cell_type": "code",
      "metadata": {
        "id": "3yDWpYUtahCm"
      },
      "source": [
        "from minisom import MiniSom\n",
        "som=MiniSom(x=10,y=10,input_len=15,sigma=1.0,learning_rate=0.5)\n",
        "som.random_weights_init(X)"
      ],
      "execution_count": 14,
      "outputs": []
    },
    {
      "cell_type": "code",
      "metadata": {
        "id": "juosIps0b8_m"
      },
      "source": [
        "som.train_random(data=X,num_iteration=100)"
      ],
      "execution_count": 15,
      "outputs": []
    },
    {
      "cell_type": "code",
      "metadata": {
        "id": "o-HLyVypes1p"
      },
      "source": [
        "from pylab import bone,pcolor,colorbar,plot,show"
      ],
      "execution_count": 16,
      "outputs": []
    },
    {
      "cell_type": "code",
      "metadata": {
        "id": "zU1jxs_ugXgQ",
        "colab": {
          "base_uri": "https://localhost:8080/",
          "height": 269
        },
        "outputId": "282b7d27-043f-453e-fd61-2ecaf0fabb8f"
      },
      "source": [
        "bone()\n",
        "pcolor(som.distance_map().T)\n",
        "colorbar()\n",
        "\n",
        "markers = ['o', 's']\n",
        "colors = ['r', 'g']\n",
        "for i, x in enumerate(X):\n",
        "    w = som.winner(x)\n",
        "    plot(w[0] + 0.5,\n",
        "         w[1] + 0.5,\n",
        "         markers[y[i]],\n",
        "         markeredgecolor = colors[y[i]],\n",
        "         markerfacecolor = 'None',\n",
        "         markersize = 10,\n",
        "         markeredgewidth = 2)\n",
        "show()\n"
      ],
      "execution_count": 17,
      "outputs": [
        {
          "output_type": "display_data",
          "data": {
            "image/png": "[encoded data removed]",
            "text/plain": [
              "<Figure size 432x288 with 2 Axes>"
            ]
          },
          "metadata": {
            "tags": [],
            "needs_background": "light"
          }
        }
      ]
    },
    {
      "cell_type": "code",
      "metadata": {
        "id": "Bx02n7Exge-7"
      },
      "source": [
        "mappings = som.win_map(X)\n",
        "frauds = np.concatenate((mappings[(8,1)], mappings[(6,8)]), axis = 0)\n",
        "frauds = sc.inverse_transform(frauds)"
      ],
      "execution_count": 22,
      "outputs": []
    },
    {
      "cell_type": "code",
      "metadata": {
        "id": "lpbq8T7ttgVo",
        "colab": {
          "base_uri": "https://localhost:8080/"
        },
        "outputId": "e0e6b591-932a-44e5-a718-631637f27561"
      },
      "source": [
        "print(frauds)"
      ],
      "execution_count": 23,
      "outputs": [
        {
          "output_type": "stream",
          "text": [
            "[[1.5648069e+07 0.0000000e+00 2.4500000e+01 1.7500000e+00 1.0000000e+00\n",
            "  8.0000000e+00 4.0000000e+00 1.6500000e-01 0.0000000e+00 0.0000000e+00\n",
            "  0.0000000e+00 0.0000000e+00 2.0000000e+00 1.3200000e+02 1.0000000e+00]\n",
            " [1.5731586e+07 0.0000000e+00 2.9500000e+01 2.0000000e+00 1.0000000e+00\n",
            "  1.0000000e+01 8.0000000e+00 2.0000000e+00 0.0000000e+00 0.0000000e+00\n",
            "  0.0000000e+00 0.0000000e+00 2.0000000e+00 2.5600000e+02 1.8000000e+01]\n",
            " [1.5644453e+07 0.0000000e+00 1.8170000e+01 1.0000000e+01 1.0000000e+00\n",
            "  1.1000000e+01 8.0000000e+00 1.6500000e-01 0.0000000e+00 0.0000000e+00\n",
            "  0.0000000e+00 0.0000000e+00 2.0000000e+00 3.4000000e+02 1.0000000e+00]\n",
            " [1.5801473e+07 0.0000000e+00 2.0830000e+01 5.0000000e-01 1.0000000e+00\n",
            "  1.0000000e+01 2.0000000e+00 1.0000000e+00 0.0000000e+00 0.0000000e+00\n",
            "  0.0000000e+00 0.0000000e+00 2.0000000e+00 2.6000000e+02 1.0000000e+00]\n",
            " [1.5694666e+07 0.0000000e+00 2.6500000e+01 2.7100000e+00 1.0000000e+00\n",
            "  8.0000000e+00 4.0000000e+00 8.5000000e-02 0.0000000e+00 0.0000000e+00\n",
            "  0.0000000e+00 0.0000000e+00 1.0000000e+00 8.0000000e+01 1.0000000e+00]\n",
            " [1.5716082e+07 0.0000000e+00 2.2250000e+01 1.2500000e+00 1.0000000e+00\n",
            "  1.0000000e+00 1.0000000e+00 3.2500000e+00 0.0000000e+00 0.0000000e+00\n",
            "  0.0000000e+00 0.0000000e+00 2.0000000e+00 2.8000000e+02 1.0000000e+00]\n",
            " [1.5699238e+07 0.0000000e+00 2.2500000e+01 8.4600000e+00 1.0000000e+00\n",
            "  1.4000000e+01 4.0000000e+00 2.4600000e+00 0.0000000e+00 0.0000000e+00\n",
            "  0.0000000e+00 0.0000000e+00 2.0000000e+00 1.6400000e+02 1.0000000e+00]\n",
            " [1.5593959e+07 0.0000000e+00 2.1750000e+01 1.7500000e+00 1.0000000e+00\n",
            "  5.0000000e+00 3.0000000e+00 0.0000000e+00 0.0000000e+00 0.0000000e+00\n",
            "  0.0000000e+00 0.0000000e+00 2.0000000e+00 1.6000000e+02 1.0000000e+00]\n",
            " [1.5629750e+07 0.0000000e+00 2.4330000e+01 2.5000000e+00 1.0000000e+00\n",
            "  3.0000000e+00 5.0000000e+00 4.5000000e+00 0.0000000e+00 0.0000000e+00\n",
            "  0.0000000e+00 0.0000000e+00 2.0000000e+00 2.0000000e+02 4.5700000e+02]\n",
            " [1.5592999e+07 0.0000000e+00 3.1750000e+01 3.0000000e+00 1.0000000e+00\n",
            "  5.0000000e+00 3.0000000e+00 0.0000000e+00 0.0000000e+00 0.0000000e+00\n",
            "  0.0000000e+00 0.0000000e+00 2.0000000e+00 1.6000000e+02 2.1000000e+01]\n",
            " [1.5577771e+07 0.0000000e+00 2.9500000e+01 1.0850000e+00 1.0000000e+00\n",
            "  1.4000000e+01 4.0000000e+00 1.0000000e+00 0.0000000e+00 0.0000000e+00\n",
            "  0.0000000e+00 0.0000000e+00 2.0000000e+00 2.8000000e+02 1.4000000e+01]\n",
            " [1.5742009e+07 0.0000000e+00 3.3250000e+01 3.0000000e+00 1.0000000e+00\n",
            "  6.0000000e+00 4.0000000e+00 2.0000000e+00 0.0000000e+00 0.0000000e+00\n",
            "  0.0000000e+00 0.0000000e+00 2.0000000e+00 1.8000000e+02 1.0000000e+00]\n",
            " [1.5752344e+07 0.0000000e+00 2.1080000e+01 5.0000000e+00 1.0000000e+00\n",
            "  1.0000000e+00 1.0000000e+00 0.0000000e+00 0.0000000e+00 0.0000000e+00\n",
            "  0.0000000e+00 0.0000000e+00 2.0000000e+00 0.0000000e+00 1.0000000e+00]\n",
            " [1.5599272e+07 0.0000000e+00 3.3670000e+01 3.7500000e-01 2.0000000e+00\n",
            "  1.3000000e+01 4.0000000e+00 3.7500000e-01 0.0000000e+00 0.0000000e+00\n",
            "  0.0000000e+00 0.0000000e+00 2.0000000e+00 3.0000000e+02 4.5000000e+01]\n",
            " [1.5611409e+07 0.0000000e+00 2.3580000e+01 5.8500000e-01 1.0000000e+00\n",
            "  1.0000000e+00 1.0000000e+00 1.2500000e-01 0.0000000e+00 0.0000000e+00\n",
            "  0.0000000e+00 0.0000000e+00 2.0000000e+00 1.2000000e+02 8.8000000e+01]\n",
            " [1.5721504e+07 0.0000000e+00 2.4500000e+01 2.4150000e+00 1.0000000e+00\n",
            "  8.0000000e+00 4.0000000e+00 0.0000000e+00 0.0000000e+00 0.0000000e+00\n",
            "  0.0000000e+00 0.0000000e+00 2.0000000e+00 1.2000000e+02 1.0000000e+00]\n",
            " [1.5636454e+07 0.0000000e+00 5.2170000e+01 0.0000000e+00 1.0000000e+00\n",
            "  1.0000000e+00 1.0000000e+00 0.0000000e+00 0.0000000e+00 0.0000000e+00\n",
            "  0.0000000e+00 0.0000000e+00 2.0000000e+00 0.0000000e+00 1.0000000e+00]\n",
            " [1.5608916e+07 0.0000000e+00 1.7670000e+01 0.0000000e+00 1.0000000e+00\n",
            "  5.0000000e+00 1.0000000e+00 0.0000000e+00 0.0000000e+00 0.0000000e+00\n",
            "  0.0000000e+00 0.0000000e+00 2.0000000e+00 8.6000000e+01 1.0000000e+00]\n",
            " [1.5790254e+07 0.0000000e+00 1.8920000e+01 9.0000000e+00 2.0000000e+00\n",
            "  6.0000000e+00 4.0000000e+00 7.5000000e-01 1.0000000e+00 1.0000000e+00\n",
            "  2.0000000e+00 0.0000000e+00 2.0000000e+00 8.8000000e+01 5.9200000e+02]\n",
            " [1.5748552e+07 0.0000000e+00 3.0670000e+01 1.2000000e+01 2.0000000e+00\n",
            "  8.0000000e+00 4.0000000e+00 2.0000000e+00 1.0000000e+00 1.0000000e+00\n",
            "  1.0000000e+00 0.0000000e+00 2.0000000e+00 2.2000000e+02 2.0000000e+01]\n",
            " [1.5757467e+07 0.0000000e+00 5.2830000e+01 1.5000000e+01 2.0000000e+00\n",
            "  8.0000000e+00 4.0000000e+00 5.5000000e+00 1.0000000e+00 1.0000000e+00\n",
            "  1.4000000e+01 0.0000000e+00 2.0000000e+00 0.0000000e+00 2.2010000e+03]\n",
            " [1.5801441e+07 0.0000000e+00 3.5750000e+01 9.1500000e-01 2.0000000e+00\n",
            "  6.0000000e+00 4.0000000e+00 7.5000000e-01 1.0000000e+00 1.0000000e+00\n",
            "  4.0000000e+00 0.0000000e+00 2.0000000e+00 0.0000000e+00 1.5840000e+03]\n",
            " [1.5815443e+07 0.0000000e+00 5.7080000e+01 1.9500000e+01 2.0000000e+00\n",
            "  8.0000000e+00 4.0000000e+00 5.5000000e+00 1.0000000e+00 1.0000000e+00\n",
            "  7.0000000e+00 0.0000000e+00 2.0000000e+00 0.0000000e+00 3.0010000e+03]\n",
            " [1.5788131e+07 0.0000000e+00 2.9500000e+01 4.6000000e-01 2.0000000e+00\n",
            "  4.0000000e+00 4.0000000e+00 5.4000000e-01 1.0000000e+00 1.0000000e+00\n",
            "  4.0000000e+00 0.0000000e+00 2.0000000e+00 3.8000000e+02 5.0100000e+02]\n",
            " [1.5699963e+07 0.0000000e+00 6.4080000e+01 1.6500000e-01 2.0000000e+00\n",
            "  1.0000000e+00 1.0000000e+00 0.0000000e+00 1.0000000e+00 1.0000000e+00\n",
            "  1.0000000e+00 0.0000000e+00 2.0000000e+00 2.3200000e+02 1.0100000e+02]\n",
            " [1.5771856e+07 0.0000000e+00 2.4500000e+01 1.2750000e+01 2.0000000e+00\n",
            "  8.0000000e+00 5.0000000e+00 4.7500000e+00 1.0000000e+00 1.0000000e+00\n",
            "  2.0000000e+00 0.0000000e+00 2.0000000e+00 7.3000000e+01 4.4500000e+02]\n",
            " [1.5679394e+07 0.0000000e+00 3.6000000e+01 1.0000000e+00 2.0000000e+00\n",
            "  8.0000000e+00 4.0000000e+00 2.0000000e+00 1.0000000e+00 1.0000000e+00\n",
            "  1.1000000e+01 0.0000000e+00 2.0000000e+00 0.0000000e+00 4.5700000e+02]\n",
            " [1.5764841e+07 0.0000000e+00 2.0420000e+01 7.5000000e+00 2.0000000e+00\n",
            "  4.0000000e+00 4.0000000e+00 1.5000000e+00 1.0000000e+00 1.0000000e+00\n",
            "  1.0000000e+00 0.0000000e+00 2.0000000e+00 1.6000000e+02 2.3500000e+02]\n",
            " [1.5748649e+07 0.0000000e+00 2.1250000e+01 2.3350000e+00 2.0000000e+00\n",
            "  3.0000000e+00 5.0000000e+00 5.0000000e-01 1.0000000e+00 1.0000000e+00\n",
            "  4.0000000e+00 0.0000000e+00 1.0000000e+00 8.0000000e+01 1.0000000e+00]\n",
            " [1.5729718e+07 0.0000000e+00 2.1500000e+01 6.0000000e+00 2.0000000e+00\n",
            "  6.0000000e+00 4.0000000e+00 2.5000000e+00 1.0000000e+00 1.0000000e+00\n",
            "  3.0000000e+00 0.0000000e+00 2.0000000e+00 8.0000000e+01 9.1900000e+02]]\n"
          ],
          "name": "stdout"
        }
      ]
    },
    {
      "cell_type": "code",
      "metadata": {
        "id": "w6JM9_n7uXth"
      },
      "source": [
        ""
      ],
      "execution_count": null,
      "outputs": []
    }
  ]
}