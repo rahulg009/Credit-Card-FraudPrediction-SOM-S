{
  "nbformat": 4,
  "nbformat_minor": 0,
  "metadata": {
    "colab": {
      "name": "Self_Realizing_Maps.ipynb",
      "provenance": []
    },
    "kernelspec": {
      "name": "python3",
      "display_name": "Python 3"
    },
    "accelerator": "GPU"
  },
  "cells": [
    {
      "cell_type": "code",
      "metadata": {
        "id": "z0qJJv6HUyu3",
        "colab_type": "code",
        "colab": {}
      },
      "source": [
        "import numpy as np\n",
        "import matplotlib.pyplot as plt\n",
        "import pandas as pd\n"
      ],
      "execution_count": null,
      "outputs": []
    },
    {
      "cell_type": "code",
      "metadata": {
        "id": "vTmgEiGtW2ps",
        "colab_type": "code",
        "colab": {}
      },
      "source": [
        "dataset=pd.read_csv('Credit_Card_Applications.csv')"
      ],
      "execution_count": null,
      "outputs": []
    },
    {
      "cell_type": "code",
      "metadata": {
        "id": "IT_ooVkpXKUs",
        "colab_type": "code",
        "colab": {}
      },
      "source": [
        "X=dataset.iloc[:,:-1].values\n",
        "y=dataset.iloc[:,-1].values"
      ],
      "execution_count": null,
      "outputs": []
    },
    {
      "cell_type": "code",
      "metadata": {
        "id": "O0RXknnJZ8Ps",
        "colab_type": "code",
        "colab": {}
      },
      "source": [
        "from sklearn.preprocessing import MinMaxScaler\n",
        "sc = MinMaxScaler(feature_range=(0,1))\n",
        "X=sc.fit_transform(X)\n",
        "print(X)\n"
      ],
      "execution_count": null,
      "outputs": []
    },
    {
      "cell_type": "code",
      "metadata": {
        "id": "3yDWpYUtahCm",
        "colab_type": "code",
        "colab": {}
      },
      "source": [
        "from minisom import MiniSom\n",
        "som=MiniSom(x=10,y=10,input_len=15,sigma=1.0,learning_rate=0.5)\n",
        "som.random_weights_init(X)"
      ],
      "execution_count": null,
      "outputs": []
    },
    {
      "cell_type": "code",
      "metadata": {
        "id": "juosIps0b8_m",
        "colab_type": "code",
        "colab": {}
      },
      "source": [
        "som.train_random(data=X,num_iteration=100)"
      ],
      "execution_count": null,
      "outputs": []
    },
    {
      "cell_type": "code",
      "metadata": {
        "id": "o-HLyVypes1p",
        "colab_type": "code",
        "colab": {}
      },
      "source": [
        "from pylab import bone,pcolor,colorbar,plot,show"
      ],
      "execution_count": null,
      "outputs": []
    },
    {
      "cell_type": "code",
      "metadata": {
        "id": "zU1jxs_ugXgQ",
        "colab_type": "code",
        "colab": {
          "base_uri": "https://localhost:8080/",
          "height": 269
        },
        "outputId": "67149ea1-8b9e-49d1-f033-2f4316fee7d8"
      },
      "source": [
        "bone()\n",
        "pcolor(som.distance_map().T)\n",
        "colorbar()\n",
        "\n",
        "markers = ['o', 's']\n",
        "colors = ['r', 'g']\n",
        "for i, x in enumerate(X):\n",
        "    w = som.winner(x)\n",
        "    plot(w[0] + 0.5,\n",
        "         w[1] + 0.5,\n",
        "         markers[y[i]],\n",
        "         markeredgecolor = colors[y[i]],\n",
        "         markerfacecolor = 'None',\n",
        "         markersize = 10,\n",
        "         markeredgewidth = 2)\n",
        "show()\n"
      ],
      "execution_count": 20,
      "outputs": [
        {
          "output_type": "display_data",
          "data": {
            "image/png": "[encoded data removed]",
            "text/plain": [
              "<Figure size 432x288 with 2 Axes>"
            ]
          },
          "metadata": {
            "tags": [],
            "needs_background": "light"
          }
        }
      ]
    },
    {
      "cell_type": "code",
      "metadata": {
        "id": "Bx02n7Exge-7",
        "colab_type": "code",
        "colab": {
          "base_uri": "https://localhost:8080/",
          "height": 1000
        },
        "outputId": "68052b79-e795-45e9-facc-60b94bbd0dc3"
      },
      "source": [
        "mappings=som.win_map(X)\n",
        "frauds=np.concatenate((mappings[5,5],mappings[(6,1)]),axis=0)\n",
        "frauds=sc.inverse_transform(frauds)\n",
        "print(frauds)\n"
      ],
      "execution_count": 21,
      "outputs": [
        {
          "output_type": "stream",
          "text": [
            "[[1.5796813e+07 1.0000000e+00 4.1580000e+01 1.7500000e+00 2.0000000e+00\n",
            "  4.0000000e+00 4.0000000e+00 2.1000000e-01 1.0000000e+00 0.0000000e+00\n",
            "  0.0000000e+00 0.0000000e+00 2.0000000e+00 1.6000000e+02 1.0000000e+00]\n",
            " [1.5753591e+07 1.0000000e+00 2.6750000e+01 1.1250000e+00 2.0000000e+00\n",
            "  1.4000000e+01 8.0000000e+00 1.2500000e+00 1.0000000e+00 0.0000000e+00\n",
            "  0.0000000e+00 0.0000000e+00 2.0000000e+00 0.0000000e+00 5.2990000e+03]\n",
            " [1.5797246e+07 1.0000000e+00 2.3420000e+01 5.8500000e-01 2.0000000e+00\n",
            "  8.0000000e+00 8.0000000e+00 8.5000000e-02 1.0000000e+00 0.0000000e+00\n",
            "  0.0000000e+00 0.0000000e+00 2.0000000e+00 1.8000000e+02 1.0000000e+00]\n",
            " [1.5715519e+07 1.0000000e+00 2.9920000e+01 1.8350000e+00 2.0000000e+00\n",
            "  8.0000000e+00 8.0000000e+00 4.3350000e+00 1.0000000e+00 0.0000000e+00\n",
            "  0.0000000e+00 0.0000000e+00 2.0000000e+00 2.6000000e+02 2.0100000e+02]\n",
            " [1.5812766e+07 1.0000000e+00 2.1500000e+01 9.7500000e+00 2.0000000e+00\n",
            "  8.0000000e+00 4.0000000e+00 2.5000000e-01 1.0000000e+00 0.0000000e+00\n",
            "  0.0000000e+00 0.0000000e+00 2.0000000e+00 1.4000000e+02 1.0000000e+00]\n",
            " [1.5757306e+07 1.0000000e+00 2.3330000e+01 1.5000000e+00 2.0000000e+00\n",
            "  8.0000000e+00 8.0000000e+00 1.4150000e+00 1.0000000e+00 0.0000000e+00\n",
            "  0.0000000e+00 0.0000000e+00 2.0000000e+00 4.2200000e+02 2.0100000e+02]\n",
            " [1.5662854e+07 0.0000000e+00 2.9580000e+01 1.7500000e+00 1.0000000e+00\n",
            "  4.0000000e+00 4.0000000e+00 1.2500000e+00 0.0000000e+00 0.0000000e+00\n",
            "  0.0000000e+00 1.0000000e+00 2.0000000e+00 2.8000000e+02 1.0000000e+00]\n",
            " [1.5610042e+07 0.0000000e+00 2.0420000e+01 1.0500000e+01 1.0000000e+00\n",
            "  1.4000000e+01 8.0000000e+00 0.0000000e+00 0.0000000e+00 0.0000000e+00\n",
            "  0.0000000e+00 1.0000000e+00 2.0000000e+00 1.5400000e+02 3.3000000e+01]\n",
            " [1.5568162e+07 0.0000000e+00 1.9500000e+01 1.6500000e-01 2.0000000e+00\n",
            "  1.1000000e+01 4.0000000e+00 4.0000000e-02 0.0000000e+00 0.0000000e+00\n",
            "  0.0000000e+00 1.0000000e+00 2.0000000e+00 3.8000000e+02 1.0000000e+00]\n",
            " [1.5638983e+07 0.0000000e+00 5.6830000e+01 4.2500000e+00 1.0000000e+00\n",
            "  1.0000000e+00 1.0000000e+00 5.0000000e+00 0.0000000e+00 0.0000000e+00\n",
            "  0.0000000e+00 1.0000000e+00 2.0000000e+00 0.0000000e+00 5.0000000e+00]\n",
            " [1.5662152e+07 0.0000000e+00 2.9750000e+01 6.6500000e-01 2.0000000e+00\n",
            "  9.0000000e+00 4.0000000e+00 2.5000000e-01 0.0000000e+00 0.0000000e+00\n",
            "  0.0000000e+00 1.0000000e+00 2.0000000e+00 3.0000000e+02 1.0000000e+00]\n",
            " [1.5734578e+07 0.0000000e+00 2.1750000e+01 1.1750000e+01 2.0000000e+00\n",
            "  8.0000000e+00 4.0000000e+00 2.5000000e-01 0.0000000e+00 0.0000000e+00\n",
            "  0.0000000e+00 1.0000000e+00 2.0000000e+00 1.8000000e+02 1.0000000e+00]\n",
            " [1.5570508e+07 0.0000000e+00 5.1920000e+01 6.5000000e+00 2.0000000e+00\n",
            "  3.0000000e+00 5.0000000e+00 3.0850000e+00 0.0000000e+00 0.0000000e+00\n",
            "  0.0000000e+00 1.0000000e+00 2.0000000e+00 7.3000000e+01 1.0000000e+00]\n",
            " [1.5795527e+07 0.0000000e+00 4.2250000e+01 1.7500000e+00 1.0000000e+00\n",
            "  8.0000000e+00 4.0000000e+00 0.0000000e+00 0.0000000e+00 0.0000000e+00\n",
            "  0.0000000e+00 1.0000000e+00 2.0000000e+00 1.5000000e+02 2.0000000e+00]\n",
            " [1.5641733e+07 0.0000000e+00 5.0250000e+01 8.3500000e-01 2.0000000e+00\n",
            "  6.0000000e+00 4.0000000e+00 5.0000000e-01 0.0000000e+00 0.0000000e+00\n",
            "  0.0000000e+00 1.0000000e+00 2.0000000e+00 2.4000000e+02 1.1800000e+02]\n",
            " [1.5603565e+07 0.0000000e+00 2.2920000e+01 1.2500000e+00 2.0000000e+00\n",
            "  1.1000000e+01 4.0000000e+00 2.5000000e-01 0.0000000e+00 0.0000000e+00\n",
            "  0.0000000e+00 1.0000000e+00 2.0000000e+00 1.2000000e+02 8.1000000e+02]\n",
            " [1.5664720e+07 0.0000000e+00 2.4830000e+01 4.5000000e+00 2.0000000e+00\n",
            "  9.0000000e+00 4.0000000e+00 1.0000000e+00 0.0000000e+00 0.0000000e+00\n",
            "  0.0000000e+00 1.0000000e+00 2.0000000e+00 3.6000000e+02 7.0000000e+00]\n",
            " [1.5627328e+07 0.0000000e+00 2.3580000e+01 1.1500000e+01 1.0000000e+00\n",
            "  4.0000000e+00 8.0000000e+00 3.0000000e+00 0.0000000e+00 0.0000000e+00\n",
            "  0.0000000e+00 1.0000000e+00 2.0000000e+00 2.0000000e+01 1.7000000e+01]\n",
            " [1.5800554e+07 0.0000000e+00 4.5330000e+01 1.0000000e+00 2.0000000e+00\n",
            "  1.1000000e+01 4.0000000e+00 1.2500000e-01 0.0000000e+00 0.0000000e+00\n",
            "  0.0000000e+00 1.0000000e+00 2.0000000e+00 2.6300000e+02 1.0000000e+00]\n",
            " [1.5617991e+07 0.0000000e+00 3.4830000e+01 1.2500000e+00 1.0000000e+00\n",
            "  3.0000000e+00 8.0000000e+00 5.0000000e-01 0.0000000e+00 0.0000000e+00\n",
            "  0.0000000e+00 1.0000000e+00 2.0000000e+00 1.6000000e+02 1.0000000e+00]\n",
            " [1.5696120e+07 0.0000000e+00 3.3250000e+01 2.5000000e+00 1.0000000e+00\n",
            "  8.0000000e+00 4.0000000e+00 2.5000000e+00 0.0000000e+00 0.0000000e+00\n",
            "  0.0000000e+00 1.0000000e+00 2.0000000e+00 0.0000000e+00 3.0000000e+00]\n",
            " [1.5567919e+07 0.0000000e+00 2.3500000e+01 1.5000000e+00 2.0000000e+00\n",
            "  9.0000000e+00 4.0000000e+00 8.7500000e-01 0.0000000e+00 0.0000000e+00\n",
            "  0.0000000e+00 1.0000000e+00 2.0000000e+00 1.6000000e+02 1.0000000e+00]\n",
            " [1.5687634e+07 0.0000000e+00 3.3170000e+01 2.2500000e+00 1.0000000e+00\n",
            "  1.3000000e+01 4.0000000e+00 3.5000000e+00 0.0000000e+00 0.0000000e+00\n",
            "  0.0000000e+00 1.0000000e+00 2.0000000e+00 2.0000000e+02 1.4200000e+02]\n",
            " [1.5638751e+07 0.0000000e+00 2.7670000e+01 2.0400000e+00 2.0000000e+00\n",
            "  9.0000000e+00 4.0000000e+00 2.5000000e-01 0.0000000e+00 0.0000000e+00\n",
            "  0.0000000e+00 1.0000000e+00 2.0000000e+00 1.8000000e+02 5.1000000e+01]\n",
            " [1.5606554e+07 0.0000000e+00 3.2250000e+01 1.5000000e+00 2.0000000e+00\n",
            "  8.0000000e+00 4.0000000e+00 2.5000000e-01 0.0000000e+00 0.0000000e+00\n",
            "  0.0000000e+00 1.0000000e+00 2.0000000e+00 3.7200000e+02 1.2300000e+02]]\n"
          ],
          "name": "stdout"
        }
      ]
    },
    {
      "cell_type": "code",
      "metadata": {
        "id": "lpbq8T7ttgVo",
        "colab_type": "code",
        "colab": {}
      },
      "source": [
        ""
      ],
      "execution_count": null,
      "outputs": []
    }
  ]
}